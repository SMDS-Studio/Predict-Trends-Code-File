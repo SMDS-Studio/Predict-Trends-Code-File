{
 "cells": [
  {
   "cell_type": "markdown",
   "id": "346bc3aa",
   "metadata": {},
   "source": [
    "# Install and Import Modules "
   ]
  },
  {
   "cell_type": "code",
   "execution_count": 4,
   "id": "014e08ce",
   "metadata": {},
   "outputs": [
    {
     "name": "stdout",
     "output_type": "stream",
     "text": [
      "Requirement already satisfied: neuralprophet in c:\\users\\rohan\\appdata\\local\\programs\\python\\python39\\lib\\site-packages (0.6.2)\n",
      "Requirement already satisfied: torchmetrics<0.12.0,>=0.11.3 in c:\\users\\rohan\\appdata\\local\\programs\\python\\python39\\lib\\site-packages (from neuralprophet) (0.11.4)\n",
      "Requirement already satisfied: matplotlib<4.0.0,>=3.5.3 in c:\\users\\rohan\\appdata\\roaming\\python\\python39\\site-packages (from neuralprophet) (3.8.0)\n",
      "Requirement already satisfied: typing-extensions<5.0.0,>=4.5.0 in c:\\users\\rohan\\appdata\\local\\programs\\python\\python39\\lib\\site-packages (from neuralprophet) (4.5.0)\n",
      "Requirement already satisfied: torch<2.0.0,>=1.13.1 in c:\\users\\rohan\\appdata\\local\\programs\\python\\python39\\lib\\site-packages (from neuralprophet) (1.13.1)\n",
      "Requirement already satisfied: pandas<2.0.0,>=1.3.5 in c:\\users\\rohan\\appdata\\local\\programs\\python\\python39\\lib\\site-packages (from neuralprophet) (1.5.3)\n",
      "Requirement already satisfied: tensorboard<3.0.0,>=2.11.2 in c:\\users\\rohan\\appdata\\local\\programs\\python\\python39\\lib\\site-packages (from neuralprophet) (2.13.0)\n",
      "Requirement already satisfied: pytorch-lightning<2.0.0,>=1.9.4 in c:\\users\\rohan\\appdata\\local\\programs\\python\\python39\\lib\\site-packages (from neuralprophet) (1.9.5)\n",
      "Requirement already satisfied: numpy<1.24.0,>=1.21.6 in c:\\users\\rohan\\appdata\\local\\programs\\python\\python39\\lib\\site-packages (from neuralprophet) (1.23.0)\n",
      "Requirement already satisfied: plotly<6.0.0,>=5.13.1 in c:\\users\\rohan\\appdata\\local\\programs\\python\\python39\\lib\\site-packages (from neuralprophet) (5.18.0)\n",
      "Collecting holidays<0.22,>=0.21\n",
      "  Using cached holidays-0.21.13-py3-none-any.whl (378 kB)\n",
      "Requirement already satisfied: plotly-resampler<0.9.0.0,>=0.8.3.1 in c:\\users\\rohan\\appdata\\local\\programs\\python\\python39\\lib\\site-packages (from neuralprophet) (0.8.3.2)\n",
      "Requirement already satisfied: captum<0.7.0,>=0.6.0 in c:\\users\\rohan\\appdata\\local\\programs\\python\\python39\\lib\\site-packages (from neuralprophet) (0.6.0)\n",
      "Requirement already satisfied: hijri-converter in c:\\users\\rohan\\appdata\\local\\programs\\python\\python39\\lib\\site-packages (from holidays<0.22,>=0.21->neuralprophet) (2.3.1)\n",
      "Requirement already satisfied: python-dateutil in c:\\users\\rohan\\appdata\\local\\programs\\python\\python39\\lib\\site-packages (from holidays<0.22,>=0.21->neuralprophet) (2.8.2)\n",
      "Requirement already satisfied: korean-lunar-calendar in c:\\users\\rohan\\appdata\\local\\programs\\python\\python39\\lib\\site-packages (from holidays<0.22,>=0.21->neuralprophet) (0.3.1)\n",
      "Requirement already satisfied: tzdata in c:\\users\\rohan\\appdata\\local\\programs\\python\\python39\\lib\\site-packages (from holidays<0.22,>=0.21->neuralprophet) (2023.3)\n",
      "Requirement already satisfied: PyMeeus in c:\\users\\rohan\\appdata\\local\\programs\\python\\python39\\lib\\site-packages (from holidays<0.22,>=0.21->neuralprophet) (0.5.12)\n",
      "Requirement already satisfied: convertdate>=2.3.0 in c:\\users\\rohan\\appdata\\local\\programs\\python\\python39\\lib\\site-packages (from holidays<0.22,>=0.21->neuralprophet) (2.4.0)\n",
      "Requirement already satisfied: pillow>=6.2.0 in c:\\users\\rohan\\appdata\\local\\programs\\python\\python39\\lib\\site-packages (from matplotlib<4.0.0,>=3.5.3->neuralprophet) (9.5.0)\n",
      "Requirement already satisfied: packaging>=20.0 in c:\\users\\rohan\\appdata\\local\\programs\\python\\python39\\lib\\site-packages (from matplotlib<4.0.0,>=3.5.3->neuralprophet) (21.3)\n",
      "Requirement already satisfied: pyparsing>=2.3.1 in c:\\users\\rohan\\appdata\\local\\programs\\python\\python39\\lib\\site-packages (from matplotlib<4.0.0,>=3.5.3->neuralprophet) (3.0.9)\n",
      "Requirement already satisfied: contourpy>=1.0.1 in c:\\users\\rohan\\appdata\\local\\programs\\python\\python39\\lib\\site-packages (from matplotlib<4.0.0,>=3.5.3->neuralprophet) (1.0.7)\n",
      "Requirement already satisfied: importlib-resources>=3.2.0 in c:\\users\\rohan\\appdata\\local\\programs\\python\\python39\\lib\\site-packages (from matplotlib<4.0.0,>=3.5.3->neuralprophet) (5.12.0)\n",
      "Requirement already satisfied: cycler>=0.10 in c:\\users\\rohan\\appdata\\local\\programs\\python\\python39\\lib\\site-packages (from matplotlib<4.0.0,>=3.5.3->neuralprophet) (0.11.0)\n",
      "Requirement already satisfied: fonttools>=4.22.0 in c:\\users\\rohan\\appdata\\local\\programs\\python\\python39\\lib\\site-packages (from matplotlib<4.0.0,>=3.5.3->neuralprophet) (4.39.3)\n",
      "Requirement already satisfied: kiwisolver>=1.0.1 in c:\\users\\rohan\\appdata\\local\\programs\\python\\python39\\lib\\site-packages (from matplotlib<4.0.0,>=3.5.3->neuralprophet) (1.4.4)\n",
      "Requirement already satisfied: pytz>=2020.1 in c:\\users\\rohan\\appdata\\local\\programs\\python\\python39\\lib\\site-packages (from pandas<2.0.0,>=1.3.5->neuralprophet) (2023.3)\n",
      "Requirement already satisfied: tenacity>=6.2.0 in c:\\users\\rohan\\appdata\\local\\programs\\python\\python39\\lib\\site-packages (from plotly<6.0.0,>=5.13.1->neuralprophet) (8.2.3)\n",
      "Requirement already satisfied: trace-updater>=0.0.8 in c:\\users\\rohan\\appdata\\local\\programs\\python\\python39\\lib\\site-packages (from plotly-resampler<0.9.0.0,>=0.8.3.1->neuralprophet) (0.0.9.1)\n",
      "Requirement already satisfied: orjson<4.0.0,>=3.8.0 in c:\\users\\rohan\\appdata\\local\\programs\\python\\python39\\lib\\site-packages (from plotly-resampler<0.9.0.0,>=0.8.3.1->neuralprophet) (3.9.10)\n",
      "Requirement already satisfied: jupyter-dash>=0.4.2 in c:\\users\\rohan\\appdata\\local\\programs\\python\\python39\\lib\\site-packages (from plotly-resampler<0.9.0.0,>=0.8.3.1->neuralprophet) (0.4.2)\n",
      "Requirement already satisfied: dash<3.0.0,>=2.2.0 in c:\\users\\rohan\\appdata\\local\\programs\\python\\python39\\lib\\site-packages (from plotly-resampler<0.9.0.0,>=0.8.3.1->neuralprophet) (2.14.1)\n",
      "Requirement already satisfied: lightning-utilities>=0.6.0.post0 in c:\\users\\rohan\\appdata\\local\\programs\\python\\python39\\lib\\site-packages (from pytorch-lightning<2.0.0,>=1.9.4->neuralprophet) (0.9.0)\n",
      "Requirement already satisfied: PyYAML>=5.4 in c:\\users\\rohan\\appdata\\local\\programs\\python\\python39\\lib\\site-packages (from pytorch-lightning<2.0.0,>=1.9.4->neuralprophet) (6.0)\n",
      "Requirement already satisfied: fsspec[http]>2021.06.0 in c:\\users\\rohan\\appdata\\local\\programs\\python\\python39\\lib\\site-packages (from pytorch-lightning<2.0.0,>=1.9.4->neuralprophet) (2023.10.0)\n",
      "Requirement already satisfied: tqdm>=4.57.0 in c:\\users\\rohan\\appdata\\local\\programs\\python\\python39\\lib\\site-packages (from pytorch-lightning<2.0.0,>=1.9.4->neuralprophet) (4.66.1)\n",
      "Requirement already satisfied: tensorboard-data-server<0.8.0,>=0.7.0 in c:\\users\\rohan\\appdata\\local\\programs\\python\\python39\\lib\\site-packages (from tensorboard<3.0.0,>=2.11.2->neuralprophet) (0.7.1)\n",
      "Requirement already satisfied: werkzeug>=1.0.1 in c:\\users\\rohan\\appdata\\local\\programs\\python\\python39\\lib\\site-packages (from tensorboard<3.0.0,>=2.11.2->neuralprophet) (3.0.1)\n",
      "Requirement already satisfied: wheel>=0.26 in c:\\users\\rohan\\appdata\\local\\programs\\python\\python39\\lib\\site-packages (from tensorboard<3.0.0,>=2.11.2->neuralprophet) (0.41.1)\n",
      "Requirement already satisfied: setuptools>=41.0.0 in c:\\users\\rohan\\appdata\\local\\programs\\python\\python39\\lib\\site-packages (from tensorboard<3.0.0,>=2.11.2->neuralprophet) (56.0.0)\n",
      "Requirement already satisfied: google-auth<3,>=1.6.3 in c:\\users\\rohan\\appdata\\local\\programs\\python\\python39\\lib\\site-packages (from tensorboard<3.0.0,>=2.11.2->neuralprophet) (2.22.0)\n",
      "Requirement already satisfied: requests<3,>=2.21.0 in c:\\users\\rohan\\appdata\\local\\programs\\python\\python39\\lib\\site-packages (from tensorboard<3.0.0,>=2.11.2->neuralprophet) (2.31.0)\n",
      "Requirement already satisfied: protobuf>=3.19.6 in c:\\users\\rohan\\appdata\\local\\programs\\python\\python39\\lib\\site-packages (from tensorboard<3.0.0,>=2.11.2->neuralprophet) (4.24.0)\n",
      "Requirement already satisfied: grpcio>=1.48.2 in c:\\users\\rohan\\appdata\\local\\programs\\python\\python39\\lib\\site-packages (from tensorboard<3.0.0,>=2.11.2->neuralprophet) (1.57.0)\n",
      "Requirement already satisfied: markdown>=2.6.8 in c:\\users\\rohan\\appdata\\local\\programs\\python\\python39\\lib\\site-packages (from tensorboard<3.0.0,>=2.11.2->neuralprophet) (3.4.4)\n",
      "Requirement already satisfied: absl-py>=0.4 in c:\\users\\rohan\\appdata\\local\\programs\\python\\python39\\lib\\site-packages (from tensorboard<3.0.0,>=2.11.2->neuralprophet) (1.4.0)\n",
      "Requirement already satisfied: google-auth-oauthlib<1.1,>=0.5 in c:\\users\\rohan\\appdata\\local\\programs\\python\\python39\\lib\\site-packages (from tensorboard<3.0.0,>=2.11.2->neuralprophet) (1.0.0)\n",
      "Requirement already satisfied: nest-asyncio in c:\\users\\rohan\\appdata\\local\\programs\\python\\python39\\lib\\site-packages (from dash<3.0.0,>=2.2.0->plotly-resampler<0.9.0.0,>=0.8.3.1->neuralprophet) (1.5.5)\n",
      "Requirement already satisfied: dash-html-components==2.0.0 in c:\\users\\rohan\\appdata\\local\\programs\\python\\python39\\lib\\site-packages (from dash<3.0.0,>=2.2.0->plotly-resampler<0.9.0.0,>=0.8.3.1->neuralprophet) (2.0.0)\n",
      "Requirement already satisfied: dash-table==5.0.0 in c:\\users\\rohan\\appdata\\local\\programs\\python\\python39\\lib\\site-packages (from dash<3.0.0,>=2.2.0->plotly-resampler<0.9.0.0,>=0.8.3.1->neuralprophet) (5.0.0)\n",
      "Requirement already satisfied: dash-core-components==2.0.0 in c:\\users\\rohan\\appdata\\local\\programs\\python\\python39\\lib\\site-packages (from dash<3.0.0,>=2.2.0->plotly-resampler<0.9.0.0,>=0.8.3.1->neuralprophet) (2.0.0)\n",
      "Requirement already satisfied: importlib-metadata in c:\\users\\rohan\\appdata\\local\\programs\\python\\python39\\lib\\site-packages (from dash<3.0.0,>=2.2.0->plotly-resampler<0.9.0.0,>=0.8.3.1->neuralprophet) (6.7.0)\n",
      "Requirement already satisfied: Flask<3.1,>=1.0.4 in c:\\users\\rohan\\appdata\\local\\programs\\python\\python39\\lib\\site-packages (from dash<3.0.0,>=2.2.0->plotly-resampler<0.9.0.0,>=0.8.3.1->neuralprophet) (3.0.0)\n",
      "Requirement already satisfied: ansi2html in c:\\users\\rohan\\appdata\\local\\programs\\python\\python39\\lib\\site-packages (from dash<3.0.0,>=2.2.0->plotly-resampler<0.9.0.0,>=0.8.3.1->neuralprophet) (1.8.0)\n",
      "Requirement already satisfied: retrying in c:\\users\\rohan\\appdata\\local\\programs\\python\\python39\\lib\\site-packages (from dash<3.0.0,>=2.2.0->plotly-resampler<0.9.0.0,>=0.8.3.1->neuralprophet) (1.3.4)\n",
      "Requirement already satisfied: aiohttp!=4.0.0a0,!=4.0.0a1 in c:\\users\\rohan\\appdata\\local\\programs\\python\\python39\\lib\\site-packages (from fsspec[http]>2021.06.0->pytorch-lightning<2.0.0,>=1.9.4->neuralprophet) (3.8.6)\n",
      "Requirement already satisfied: urllib3<2.0 in c:\\users\\rohan\\appdata\\local\\programs\\python\\python39\\lib\\site-packages (from google-auth<3,>=1.6.3->tensorboard<3.0.0,>=2.11.2->neuralprophet) (1.26.16)\n",
      "Requirement already satisfied: rsa<5,>=3.1.4 in c:\\users\\rohan\\appdata\\local\\programs\\python\\python39\\lib\\site-packages (from google-auth<3,>=1.6.3->tensorboard<3.0.0,>=2.11.2->neuralprophet) (4.9)\n",
      "Requirement already satisfied: pyasn1-modules>=0.2.1 in c:\\users\\rohan\\appdata\\local\\programs\\python\\python39\\lib\\site-packages (from google-auth<3,>=1.6.3->tensorboard<3.0.0,>=2.11.2->neuralprophet) (0.3.0)\n",
      "Requirement already satisfied: cachetools<6.0,>=2.0.0 in c:\\users\\rohan\\appdata\\local\\programs\\python\\python39\\lib\\site-packages (from google-auth<3,>=1.6.3->tensorboard<3.0.0,>=2.11.2->neuralprophet) (5.3.1)\n",
      "Requirement already satisfied: six>=1.9.0 in c:\\users\\rohan\\appdata\\local\\programs\\python\\python39\\lib\\site-packages (from google-auth<3,>=1.6.3->tensorboard<3.0.0,>=2.11.2->neuralprophet) (1.16.0)\n",
      "Requirement already satisfied: requests-oauthlib>=0.7.0 in c:\\users\\rohan\\appdata\\local\\programs\\python\\python39\\lib\\site-packages (from google-auth-oauthlib<1.1,>=0.5->tensorboard<3.0.0,>=2.11.2->neuralprophet) (1.3.1)\n",
      "Requirement already satisfied: zipp>=3.1.0 in c:\\users\\rohan\\appdata\\local\\programs\\python\\python39\\lib\\site-packages (from importlib-resources>=3.2.0->matplotlib<4.0.0,>=3.5.3->neuralprophet) (3.15.0)\n",
      "Requirement already satisfied: ipython in c:\\users\\rohan\\appdata\\local\\programs\\python\\python39\\lib\\site-packages (from jupyter-dash>=0.4.2->plotly-resampler<0.9.0.0,>=0.8.3.1->neuralprophet) (8.4.0)\n",
      "Requirement already satisfied: ipykernel in c:\\users\\rohan\\appdata\\local\\programs\\python\\python39\\lib\\site-packages (from jupyter-dash>=0.4.2->plotly-resampler<0.9.0.0,>=0.8.3.1->neuralprophet) (6.15.0)\n",
      "Requirement already satisfied: certifi>=2017.4.17 in c:\\users\\rohan\\appdata\\local\\programs\\python\\python39\\lib\\site-packages (from requests<3,>=2.21.0->tensorboard<3.0.0,>=2.11.2->neuralprophet) (2022.12.7)\n",
      "Requirement already satisfied: idna<4,>=2.5 in c:\\users\\rohan\\appdata\\local\\programs\\python\\python39\\lib\\site-packages (from requests<3,>=2.21.0->tensorboard<3.0.0,>=2.11.2->neuralprophet) (3.4)\n",
      "Requirement already satisfied: charset-normalizer<4,>=2 in c:\\users\\rohan\\appdata\\local\\programs\\python\\python39\\lib\\site-packages (from requests<3,>=2.21.0->tensorboard<3.0.0,>=2.11.2->neuralprophet) (3.1.0)\n",
      "Requirement already satisfied: colorama in c:\\users\\rohan\\appdata\\local\\programs\\python\\python39\\lib\\site-packages (from tqdm>=4.57.0->pytorch-lightning<2.0.0,>=1.9.4->neuralprophet) (0.4.5)\n",
      "Requirement already satisfied: MarkupSafe>=2.1.1 in c:\\users\\rohan\\appdata\\local\\programs\\python\\python39\\lib\\site-packages (from werkzeug>=1.0.1->tensorboard<3.0.0,>=2.11.2->neuralprophet) (2.1.3)\n",
      "Requirement already satisfied: yarl<2.0,>=1.0 in c:\\users\\rohan\\appdata\\local\\programs\\python\\python39\\lib\\site-packages (from aiohttp!=4.0.0a0,!=4.0.0a1->fsspec[http]>2021.06.0->pytorch-lightning<2.0.0,>=1.9.4->neuralprophet) (1.9.2)\n",
      "Requirement already satisfied: async-timeout<5.0,>=4.0.0a3 in c:\\users\\rohan\\appdata\\local\\programs\\python\\python39\\lib\\site-packages (from aiohttp!=4.0.0a0,!=4.0.0a1->fsspec[http]>2021.06.0->pytorch-lightning<2.0.0,>=1.9.4->neuralprophet) (4.0.3)\n",
      "Requirement already satisfied: aiosignal>=1.1.2 in c:\\users\\rohan\\appdata\\local\\programs\\python\\python39\\lib\\site-packages (from aiohttp!=4.0.0a0,!=4.0.0a1->fsspec[http]>2021.06.0->pytorch-lightning<2.0.0,>=1.9.4->neuralprophet) (1.3.1)\n",
      "Requirement already satisfied: attrs>=17.3.0 in c:\\users\\rohan\\appdata\\local\\programs\\python\\python39\\lib\\site-packages (from aiohttp!=4.0.0a0,!=4.0.0a1->fsspec[http]>2021.06.0->pytorch-lightning<2.0.0,>=1.9.4->neuralprophet) (23.1.0)\n",
      "Requirement already satisfied: multidict<7.0,>=4.5 in c:\\users\\rohan\\appdata\\local\\programs\\python\\python39\\lib\\site-packages (from aiohttp!=4.0.0a0,!=4.0.0a1->fsspec[http]>2021.06.0->pytorch-lightning<2.0.0,>=1.9.4->neuralprophet) (6.0.4)\n",
      "Requirement already satisfied: frozenlist>=1.1.1 in c:\\users\\rohan\\appdata\\local\\programs\\python\\python39\\lib\\site-packages (from aiohttp!=4.0.0a0,!=4.0.0a1->fsspec[http]>2021.06.0->pytorch-lightning<2.0.0,>=1.9.4->neuralprophet) (1.4.0)\n",
      "Requirement already satisfied: Jinja2>=3.1.2 in c:\\users\\rohan\\appdata\\local\\programs\\python\\python39\\lib\\site-packages (from Flask<3.1,>=1.0.4->dash<3.0.0,>=2.2.0->plotly-resampler<0.9.0.0,>=0.8.3.1->neuralprophet) (3.1.2)\n",
      "Requirement already satisfied: itsdangerous>=2.1.2 in c:\\users\\rohan\\appdata\\local\\programs\\python\\python39\\lib\\site-packages (from Flask<3.1,>=1.0.4->dash<3.0.0,>=2.2.0->plotly-resampler<0.9.0.0,>=0.8.3.1->neuralprophet) (2.1.2)\n",
      "Requirement already satisfied: blinker>=1.6.2 in c:\\users\\rohan\\appdata\\local\\programs\\python\\python39\\lib\\site-packages (from Flask<3.1,>=1.0.4->dash<3.0.0,>=2.2.0->plotly-resampler<0.9.0.0,>=0.8.3.1->neuralprophet) (1.7.0)\n",
      "Requirement already satisfied: click>=8.1.3 in c:\\users\\rohan\\appdata\\local\\programs\\python\\python39\\lib\\site-packages (from Flask<3.1,>=1.0.4->dash<3.0.0,>=2.2.0->plotly-resampler<0.9.0.0,>=0.8.3.1->neuralprophet) (8.1.7)\n",
      "Requirement already satisfied: pyasn1<0.6.0,>=0.4.6 in c:\\users\\rohan\\appdata\\local\\programs\\python\\python39\\lib\\site-packages (from pyasn1-modules>=0.2.1->google-auth<3,>=1.6.3->tensorboard<3.0.0,>=2.11.2->neuralprophet) (0.5.0)\n",
      "Requirement already satisfied: oauthlib>=3.0.0 in c:\\users\\rohan\\appdata\\local\\programs\\python\\python39\\lib\\site-packages (from requests-oauthlib>=0.7.0->google-auth-oauthlib<1.1,>=0.5->tensorboard<3.0.0,>=2.11.2->neuralprophet) (3.2.2)\n",
      "Requirement already satisfied: pyzmq>=17 in c:\\users\\rohan\\appdata\\local\\programs\\python\\python39\\lib\\site-packages (from ipykernel->jupyter-dash>=0.4.2->plotly-resampler<0.9.0.0,>=0.8.3.1->neuralprophet) (25.1.0)\n",
      "Requirement already satisfied: debugpy>=1.0 in c:\\users\\rohan\\appdata\\local\\programs\\python\\python39\\lib\\site-packages (from ipykernel->jupyter-dash>=0.4.2->plotly-resampler<0.9.0.0,>=0.8.3.1->neuralprophet) (1.6.0)\n",
      "Requirement already satisfied: traitlets>=5.1.0 in c:\\users\\rohan\\appdata\\local\\programs\\python\\python39\\lib\\site-packages (from ipykernel->jupyter-dash>=0.4.2->plotly-resampler<0.9.0.0,>=0.8.3.1->neuralprophet) (5.9.0)\n",
      "Requirement already satisfied: matplotlib-inline>=0.1 in c:\\users\\rohan\\appdata\\local\\programs\\python\\python39\\lib\\site-packages (from ipykernel->jupyter-dash>=0.4.2->plotly-resampler<0.9.0.0,>=0.8.3.1->neuralprophet) (0.1.3)\n",
      "Requirement already satisfied: jupyter-client>=6.1.12 in c:\\users\\rohan\\appdata\\local\\programs\\python\\python39\\lib\\site-packages (from ipykernel->jupyter-dash>=0.4.2->plotly-resampler<0.9.0.0,>=0.8.3.1->neuralprophet) (8.2.0)\n",
      "Requirement already satisfied: psutil in c:\\users\\rohan\\appdata\\local\\programs\\python\\python39\\lib\\site-packages (from ipykernel->jupyter-dash>=0.4.2->plotly-resampler<0.9.0.0,>=0.8.3.1->neuralprophet) (5.9.1)\n",
      "Requirement already satisfied: tornado>=6.1 in c:\\users\\rohan\\appdata\\local\\programs\\python\\python39\\lib\\site-packages (from ipykernel->jupyter-dash>=0.4.2->plotly-resampler<0.9.0.0,>=0.8.3.1->neuralprophet) (6.3.2)\n",
      "Requirement already satisfied: stack-data in c:\\users\\rohan\\appdata\\local\\programs\\python\\python39\\lib\\site-packages (from ipython->jupyter-dash>=0.4.2->plotly-resampler<0.9.0.0,>=0.8.3.1->neuralprophet) (0.3.0)\n",
      "Requirement already satisfied: pickleshare in c:\\users\\rohan\\appdata\\local\\programs\\python\\python39\\lib\\site-packages (from ipython->jupyter-dash>=0.4.2->plotly-resampler<0.9.0.0,>=0.8.3.1->neuralprophet) (0.7.5)\n",
      "Requirement already satisfied: jedi>=0.16 in c:\\users\\rohan\\appdata\\local\\programs\\python\\python39\\lib\\site-packages (from ipython->jupyter-dash>=0.4.2->plotly-resampler<0.9.0.0,>=0.8.3.1->neuralprophet) (0.18.1)\n",
      "Requirement already satisfied: prompt-toolkit!=3.0.0,!=3.0.1,<3.1.0,>=2.0.0 in c:\\users\\rohan\\appdata\\local\\programs\\python\\python39\\lib\\site-packages (from ipython->jupyter-dash>=0.4.2->plotly-resampler<0.9.0.0,>=0.8.3.1->neuralprophet) (3.0.30)\n",
      "Requirement already satisfied: backcall in c:\\users\\rohan\\appdata\\local\\programs\\python\\python39\\lib\\site-packages (from ipython->jupyter-dash>=0.4.2->plotly-resampler<0.9.0.0,>=0.8.3.1->neuralprophet) (0.2.0)\n",
      "Requirement already satisfied: pygments>=2.4.0 in c:\\users\\rohan\\appdata\\local\\programs\\python\\python39\\lib\\site-packages (from ipython->jupyter-dash>=0.4.2->plotly-resampler<0.9.0.0,>=0.8.3.1->neuralprophet) (2.12.0)\n",
      "Requirement already satisfied: decorator in c:\\users\\rohan\\appdata\\local\\programs\\python\\python39\\lib\\site-packages (from ipython->jupyter-dash>=0.4.2->plotly-resampler<0.9.0.0,>=0.8.3.1->neuralprophet) (5.1.1)\n",
      "Requirement already satisfied: parso<0.9.0,>=0.8.0 in c:\\users\\rohan\\appdata\\local\\programs\\python\\python39\\lib\\site-packages (from jedi>=0.16->ipython->jupyter-dash>=0.4.2->plotly-resampler<0.9.0.0,>=0.8.3.1->neuralprophet) (0.8.3)\n",
      "Requirement already satisfied: jupyter-core!=5.0.*,>=4.12 in c:\\users\\rohan\\appdata\\local\\programs\\python\\python39\\lib\\site-packages (from jupyter-client>=6.1.12->ipykernel->jupyter-dash>=0.4.2->plotly-resampler<0.9.0.0,>=0.8.3.1->neuralprophet) (5.3.1)\n",
      "Requirement already satisfied: wcwidth in c:\\users\\rohan\\appdata\\local\\programs\\python\\python39\\lib\\site-packages (from prompt-toolkit!=3.0.0,!=3.0.1,<3.1.0,>=2.0.0->ipython->jupyter-dash>=0.4.2->plotly-resampler<0.9.0.0,>=0.8.3.1->neuralprophet) (0.2.5)\n",
      "Requirement already satisfied: executing in c:\\users\\rohan\\appdata\\local\\programs\\python\\python39\\lib\\site-packages (from stack-data->ipython->jupyter-dash>=0.4.2->plotly-resampler<0.9.0.0,>=0.8.3.1->neuralprophet) (0.8.3)\n",
      "Requirement already satisfied: pure-eval in c:\\users\\rohan\\appdata\\local\\programs\\python\\python39\\lib\\site-packages (from stack-data->ipython->jupyter-dash>=0.4.2->plotly-resampler<0.9.0.0,>=0.8.3.1->neuralprophet) (0.2.2)\n",
      "Requirement already satisfied: asttokens in c:\\users\\rohan\\appdata\\local\\programs\\python\\python39\\lib\\site-packages (from stack-data->ipython->jupyter-dash>=0.4.2->plotly-resampler<0.9.0.0,>=0.8.3.1->neuralprophet) (2.0.5)\n",
      "Requirement already satisfied: pywin32>=300 in c:\\users\\rohan\\appdata\\local\\programs\\python\\python39\\lib\\site-packages (from jupyter-core!=5.0.*,>=4.12->jupyter-client>=6.1.12->ipykernel->jupyter-dash>=0.4.2->plotly-resampler<0.9.0.0,>=0.8.3.1->neuralprophet) (304)\n",
      "Requirement already satisfied: platformdirs>=2.5 in c:\\users\\rohan\\appdata\\local\\programs\\python\\python39\\lib\\site-packages (from jupyter-core!=5.0.*,>=4.12->jupyter-client>=6.1.12->ipykernel->jupyter-dash>=0.4.2->plotly-resampler<0.9.0.0,>=0.8.3.1->neuralprophet) (3.7.0)\n",
      "Installing collected packages: holidays\n",
      "  Attempting uninstall: holidays\n",
      "    Found existing installation: holidays 0.36\n",
      "    Uninstalling holidays-0.36:\n",
      "      Successfully uninstalled holidays-0.36\n",
      "Successfully installed holidays-0.21.13\n",
      "Note: you may need to restart the kernel to use updated packages.\n"
     ]
    },
    {
     "name": "stderr",
     "output_type": "stream",
     "text": [
      "WARNING: Ignoring invalid distribution -ip (c:\\users\\rohan\\appdata\\local\\programs\\python\\python39\\lib\\site-packages)\n",
      "WARNING: Ignoring invalid distribution -atplotlib (c:\\users\\rohan\\appdata\\local\\programs\\python\\python39\\lib\\site-packages)\n",
      "WARNING: Ignoring invalid distribution -ip (c:\\users\\rohan\\appdata\\local\\programs\\python\\python39\\lib\\site-packages)\n",
      "WARNING: Ignoring invalid distribution -atplotlib (c:\\users\\rohan\\appdata\\local\\programs\\python\\python39\\lib\\site-packages)\n",
      "WARNING: Ignoring invalid distribution -ip (c:\\users\\rohan\\appdata\\local\\programs\\python\\python39\\lib\\site-packages)\n",
      "WARNING: Ignoring invalid distribution -atplotlib (c:\\users\\rohan\\appdata\\local\\programs\\python\\python39\\lib\\site-packages)\n",
      "    WARNING: Ignoring invalid distribution -ip (c:\\users\\rohan\\appdata\\local\\programs\\python\\python39\\lib\\site-packages)\n",
      "    WARNING: Ignoring invalid distribution -atplotlib (c:\\users\\rohan\\appdata\\local\\programs\\python\\python39\\lib\\site-packages)\n",
      "WARNING: Ignoring invalid distribution -ip (c:\\users\\rohan\\appdata\\local\\programs\\python\\python39\\lib\\site-packages)\n",
      "WARNING: Ignoring invalid distribution -atplotlib (c:\\users\\rohan\\appdata\\local\\programs\\python\\python39\\lib\\site-packages)\n",
      "ERROR: pip's dependency resolver does not currently take into account all the packages that are installed. This behaviour is the source of the following dependency conflicts.\n",
      "prophet 1.1.5 requires holidays>=0.25, but you have holidays 0.21.13 which is incompatible.\n",
      "WARNING: Ignoring invalid distribution -ip (c:\\users\\rohan\\appdata\\local\\programs\\python\\python39\\lib\\site-packages)\n",
      "WARNING: Ignoring invalid distribution -atplotlib (c:\\users\\rohan\\appdata\\local\\programs\\python\\python39\\lib\\site-packages)\n",
      "WARNING: Ignoring invalid distribution -ip (c:\\users\\rohan\\appdata\\local\\programs\\python\\python39\\lib\\site-packages)\n",
      "WARNING: Ignoring invalid distribution -atplotlib (c:\\users\\rohan\\appdata\\local\\programs\\python\\python39\\lib\\site-packages)\n",
      "WARNING: Ignoring invalid distribution -ip (c:\\users\\rohan\\appdata\\local\\programs\\python\\python39\\lib\\site-packages)\n",
      "WARNING: Ignoring invalid distribution -atplotlib (c:\\users\\rohan\\appdata\\local\\programs\\python\\python39\\lib\\site-packages)\n"
     ]
    }
   ],
   "source": [
    "pip install neuralprophet"
   ]
  },
  {
   "cell_type": "code",
   "execution_count": 6,
   "id": "0a3b9d68",
   "metadata": {},
   "outputs": [],
   "source": [
    "from neuralprophet import NeuralProphet\n",
    "import yfinance as yf\n",
    "import pandas as pd\n",
    "import matplotlib.pyplot as plt"
   ]
  },
  {
   "cell_type": "markdown",
   "id": "055b56c0",
   "metadata": {},
   "source": [
    "# Read and Preprocess the Data"
   ]
  },
  {
   "cell_type": "code",
   "execution_count": 27,
   "id": "544c7c3d",
   "metadata": {},
   "outputs": [
    {
     "name": "stdout",
     "output_type": "stream",
     "text": [
      "[*********************100%%**********************]  1 of 1 completed\n",
      "                 Open       High        Low      Close  Adj Close    Volume\n",
      "Date                                                                       \n",
      "2015-01-02  26.629999  26.790001  26.393999  26.477501  26.477501  26480000\n",
      "2015-01-05  26.357500  26.399500  25.887501  25.973000  25.973000  41182000\n",
      "2015-01-06  26.025000  26.060499  25.277500  25.332001  25.332001  54456000\n",
      "2015-01-07  25.547501  25.574499  25.182501  25.257500  25.257500  46918000\n",
      "2015-01-08  25.075500  25.375000  24.750999  25.345501  25.345501  73054000\n"
     ]
    }
   ],
   "source": [
    "stock_symbol = 'GOOGL' #Samsung\n",
    "start_date = '2015-01-01'\n",
    "end_date = '2023-01-01'\n",
    "\n",
    "stock_data = yf.download(stock_symbol, start = start_date, end=end_date)\n",
    "\n",
    "print(stock_data.head())\n",
    "stock_data.to_csv('stock_data.csv')"
   ]
  },
  {
   "cell_type": "code",
   "execution_count": 28,
   "id": "7df6abda",
   "metadata": {},
   "outputs": [
    {
     "data": {
      "image/png": "[encoded data removed]",
      "text/plain": [
       "<Figure size 432x288 with 1 Axes>"
      ]
     },
     "metadata": {
      "needs_background": "light"
     },
     "output_type": "display_data"
    }
   ],
   "source": [
    "stocks = pd.read_csv('stock_data.csv')\n",
    "stocks['Date'] = pd.to_datetime(stocks['Date'])\n",
    "stocks = stocks[['Date', 'Close']]\n",
    "stocks.columns = ['ds', 'y']\n",
    "\n",
    "plt.plot(stocks['ds'], stocks['y'], label = 'actual', c = 'g')\n",
    "plt.show()"
   ]
  },
  {
   "cell_type": "markdown",
   "id": "ad5c412b",
   "metadata": {},
   "source": [
    "# Train the Model"
   ]
  },
  {
   "cell_type": "code",
   "execution_count": 29,
   "id": "0253a8d0",
   "metadata": {},
   "outputs": [
    {
     "name": "stderr",
     "output_type": "stream",
     "text": [
      "WARNING - (NP.forecaster.fit) - When Global modeling with local normalization, metrics are displayed in normalized scale.\n",
      "INFO - (NP.df_utils._infer_frequency) - Major frequency B corresponds to 96.375% of the data.\n",
      "INFO - (NP.df_utils._infer_frequency) - Dataframe freq automatically defined as B\n",
      "INFO - (NP.config.init_data_params) - Setting normalization to global as only one dataframe provided for training.\n",
      "INFO - (NP.utils.set_auto_seasonalities) - Disabling daily seasonality. Run NeuralProphet with daily_seasonality=True to override this.\n",
      "INFO - (NP.config.set_auto_batch_epoch) - Auto-set batch_size to 32\n",
      "INFO - (NP.config.set_auto_batch_epoch) - Auto-set epochs to 157\n",
      "WARNING - (NP.config.set_lr_finder_args) - Learning rate finder: The number of batches (63) is too small than the required number for the learning rate finder (233). The results might not be optimal.\n"
     ]
    },
    {
     "data": {
      "application/vnd.jupyter.widget-view+json": {
       "model_id": "3eb038c6291c42ebb5eee7ae715e7ca0",
       "version_major": 2,
       "version_minor": 0
      },
      "text/plain": [
       "Finding best initial lr:   0%|          | 0/233 [00:00<?, ?it/s]"
      ]
     },
     "metadata": {},
     "output_type": "display_data"
    },
    {
     "data": {
      "application/vnd.jupyter.widget-view+json": {
       "model_id": "94d8c7bb0eff46c89a656f89029b574c",
       "version_major": 2,
       "version_minor": 0
      },
      "text/plain": [
       "Training: 0it [00:00, ?it/s]"
      ]
     },
     "metadata": {},
     "output_type": "display_data"
    },
    {
     "data": {
      "text/html": [
       "<div>\n",
       "<style scoped>\n",
       "    .dataframe tbody tr th:only-of-type {\n",
       "        vertical-align: middle;\n",
       "    }\n",
       "\n",
       "    .dataframe tbody tr th {\n",
       "        vertical-align: top;\n",
       "    }\n",
       "\n",
       "    .dataframe thead th {\n",
       "        text-align: right;\n",
       "    }\n",
       "</style>\n",
       "<table border=\"1\" class=\"dataframe\">\n",
       "  <thead>\n",
       "    <tr style=\"text-align: right;\">\n",
       "      <th></th>\n",
       "      <th>MAE</th>\n",
       "      <th>RMSE</th>\n",
       "      <th>Loss</th>\n",
       "      <th>RegLoss</th>\n",
       "      <th>epoch</th>\n",
       "    </tr>\n",
       "  </thead>\n",
       "  <tbody>\n",
       "    <tr>\n",
       "      <th>0</th>\n",
       "      <td>107.182297</td>\n",
       "      <td>134.590958</td>\n",
       "      <td>0.418151</td>\n",
       "      <td>0.0</td>\n",
       "      <td>0</td>\n",
       "    </tr>\n",
       "    <tr>\n",
       "      <th>1</th>\n",
       "      <td>101.901688</td>\n",
       "      <td>127.672646</td>\n",
       "      <td>0.386302</td>\n",
       "      <td>0.0</td>\n",
       "      <td>1</td>\n",
       "    </tr>\n",
       "    <tr>\n",
       "      <th>2</th>\n",
       "      <td>95.475792</td>\n",
       "      <td>119.344917</td>\n",
       "      <td>0.347859</td>\n",
       "      <td>0.0</td>\n",
       "      <td>2</td>\n",
       "    </tr>\n",
       "    <tr>\n",
       "      <th>3</th>\n",
       "      <td>87.128403</td>\n",
       "      <td>108.560379</td>\n",
       "      <td>0.299363</td>\n",
       "      <td>0.0</td>\n",
       "      <td>3</td>\n",
       "    </tr>\n",
       "    <tr>\n",
       "      <th>4</th>\n",
       "      <td>76.215584</td>\n",
       "      <td>94.484680</td>\n",
       "      <td>0.237957</td>\n",
       "      <td>0.0</td>\n",
       "      <td>4</td>\n",
       "    </tr>\n",
       "    <tr>\n",
       "      <th>...</th>\n",
       "      <td>...</td>\n",
       "      <td>...</td>\n",
       "      <td>...</td>\n",
       "      <td>...</td>\n",
       "      <td>...</td>\n",
       "    </tr>\n",
       "    <tr>\n",
       "      <th>152</th>\n",
       "      <td>7.250566</td>\n",
       "      <td>10.983958</td>\n",
       "      <td>0.004541</td>\n",
       "      <td>0.0</td>\n",
       "      <td>152</td>\n",
       "    </tr>\n",
       "    <tr>\n",
       "      <th>153</th>\n",
       "      <td>7.244500</td>\n",
       "      <td>10.958083</td>\n",
       "      <td>0.004543</td>\n",
       "      <td>0.0</td>\n",
       "      <td>153</td>\n",
       "    </tr>\n",
       "    <tr>\n",
       "      <th>154</th>\n",
       "      <td>7.235168</td>\n",
       "      <td>10.959465</td>\n",
       "      <td>0.004533</td>\n",
       "      <td>0.0</td>\n",
       "      <td>154</td>\n",
       "    </tr>\n",
       "    <tr>\n",
       "      <th>155</th>\n",
       "      <td>7.233440</td>\n",
       "      <td>10.977217</td>\n",
       "      <td>0.004532</td>\n",
       "      <td>0.0</td>\n",
       "      <td>155</td>\n",
       "    </tr>\n",
       "    <tr>\n",
       "      <th>156</th>\n",
       "      <td>7.235413</td>\n",
       "      <td>10.985023</td>\n",
       "      <td>0.004534</td>\n",
       "      <td>0.0</td>\n",
       "      <td>156</td>\n",
       "    </tr>\n",
       "  </tbody>\n",
       "</table>\n",
       "<p>157 rows × 5 columns</p>\n",
       "</div>"
      ],
      "text/plain": [
       "            MAE        RMSE      Loss  RegLoss  epoch\n",
       "0    107.182297  134.590958  0.418151      0.0      0\n",
       "1    101.901688  127.672646  0.386302      0.0      1\n",
       "2     95.475792  119.344917  0.347859      0.0      2\n",
       "3     87.128403  108.560379  0.299363      0.0      3\n",
       "4     76.215584   94.484680  0.237957      0.0      4\n",
       "..          ...         ...       ...      ...    ...\n",
       "152    7.250566   10.983958  0.004541      0.0    152\n",
       "153    7.244500   10.958083  0.004543      0.0    153\n",
       "154    7.235168   10.959465  0.004533      0.0    154\n",
       "155    7.233440   10.977217  0.004532      0.0    155\n",
       "156    7.235413   10.985023  0.004534      0.0    156\n",
       "\n",
       "[157 rows x 5 columns]"
      ]
     },
     "execution_count": 29,
     "metadata": {},
     "output_type": "execute_result"
    }
   ],
   "source": [
    "model = NeuralProphet()\n",
    "model.fit(stocks)"
   ]
  },
  {
   "cell_type": "markdown",
   "id": "c9f86634",
   "metadata": {},
   "source": [
    "# Evaluate the Model"
   ]
  },
  {
   "cell_type": "code",
   "execution_count": 32,
   "id": "d2f0beb0",
   "metadata": {},
   "outputs": [
    {
     "name": "stderr",
     "output_type": "stream",
     "text": [
      "INFO - (NP.df_utils._infer_frequency) - Major frequency B corresponds to 96.375% of the data.\n",
      "INFO - (NP.df_utils._infer_frequency) - Defined frequency is equal to major frequency - B\n",
      "INFO - (NP.df_utils.return_df_in_original_format) - Returning df with no ID column\n",
      "INFO - (NP.df_utils._infer_frequency) - Major frequency B corresponds to 99.667% of the data.\n",
      "INFO - (NP.df_utils._infer_frequency) - Defined frequency is equal to major frequency - B\n",
      "INFO - (NP.df_utils._infer_frequency) - Major frequency B corresponds to 99.667% of the data.\n",
      "INFO - (NP.df_utils._infer_frequency) - Defined frequency is equal to major frequency - B\n"
     ]
    },
    {
     "data": {
      "application/vnd.jupyter.widget-view+json": {
       "model_id": "36924191867c4691b92ba3ba29dfee02",
       "version_major": 2,
       "version_minor": 0
      },
      "text/plain": [
       "Predicting: 63it [00:00, ?it/s]"
      ]
     },
     "metadata": {},
     "output_type": "display_data"
    },
    {
     "name": "stderr",
     "output_type": "stream",
     "text": [
      "INFO - (NP.df_utils.return_df_in_original_format) - Returning df with no ID column\n",
      "INFO - (NP.df_utils._infer_frequency) - Major frequency B corresponds to 96.375% of the data.\n",
      "INFO - (NP.df_utils._infer_frequency) - Defined frequency is equal to major frequency - B\n",
      "INFO - (NP.df_utils._infer_frequency) - Major frequency B corresponds to 96.375% of the data.\n",
      "INFO - (NP.df_utils._infer_frequency) - Defined frequency is equal to major frequency - B\n"
     ]
    },
    {
     "data": {
      "application/vnd.jupyter.widget-view+json": {
       "model_id": "f191b1c6cb724b438895ddaa5e4fb52e",
       "version_major": 2,
       "version_minor": 0
      },
      "text/plain": [
       "Predicting: 63it [00:00, ?it/s]"
      ]
     },
     "metadata": {},
     "output_type": "display_data"
    },
    {
     "name": "stderr",
     "output_type": "stream",
     "text": [
      "INFO - (NP.df_utils.return_df_in_original_format) - Returning df with no ID column\n"
     ]
    },
    {
     "data": {
      "image/png": "[encoded data removed]",
      "text/plain": [
       "<Figure size 432x288 with 1 Axes>"
      ]
     },
     "metadata": {
      "needs_background": "light"
     },
     "output_type": "display_data"
    }
   ],
   "source": [
    "future = model.make_future_dataframe(stocks, periods = 300)\n",
    "\n",
    "forecast = model.predict(future)\n",
    "actual_prediction = model.predict(stocks)\n",
    "\n",
    "plt.plot(actual_prediction['ds'], actual_prediction['yhat1'], label = \"prediction_Actual\", c = 'r')\n",
    "plt.plot(forecast['ds'], forecast['yhat1'], label = 'future_prediction', c = 'b')\n",
    "plt.plot(stocks['ds'], stocks['y'], label = 'actual', c = 'g')\n",
    "plt.legend()\n",
    "plt.title('Google')\n",
    "plt.show()"
   ]
  },
  {
   "cell_type": "code",
   "execution_count": 31,
   "id": "6de2290a",
   "metadata": {},
   "outputs": [
    {
     "data": {
      "application/vnd.jupyter.widget-view+json": {
       "model_id": "de7bae29bcef42fd8395f756b5422d2e",
       "version_major": 2,
       "version_minor": 0
      },
      "text/plain": [
       "FigureWidgetResampler({\n",
       "    'data': [{'line': {'color': '#2d92ff', 'width': 2},\n",
       "              'mode': 'lines',\n",
       "              'name': 'Trend',\n",
       "              'showlegend': False,\n",
       "              'type': 'scatter',\n",
       "              'uid': '79391d2f-229a-47ae-8997-c0624a2aa7f9',\n",
       "              'x': array([datetime.datetime(2023, 1, 2, 0, 0),\n",
       "                          datetime.datetime(2023, 1, 3, 0, 0),\n",
       "                          datetime.datetime(2023, 1, 4, 0, 0), ...,\n",
       "                          datetime.datetime(2024, 2, 21, 0, 0),\n",
       "                          datetime.datetime(2024, 2, 22, 0, 0),\n",
       "                          datetime.datetime(2024, 2, 23, 0, 0)], dtype=object),\n",
       "              'xaxis': 'x',\n",
       "              'y': array([137.48962402, 137.51118469, 137.53276062, ..., 146.44067383,\n",
       "                          146.46226501, 146.48382568]),\n",
       "              'yaxis': 'y'},\n",
       "             {'line': {'color': '#2d92ff', 'width': 2},\n",
       "              'mode': 'lines',\n",
       "              'name': 'yearly seasonality',\n",
       "              'showlegend': False,\n",
       "              'type': 'scatter',\n",
       "              'uid': 'dfada15d-2c23-499e-bd96-44c3975a8cf3',\n",
       "              'x': array([datetime.datetime(2023, 1, 2, 0, 0),\n",
       "                          datetime.datetime(2023, 1, 3, 0, 0),\n",
       "                          datetime.datetime(2023, 1, 4, 0, 0), ...,\n",
       "                          datetime.datetime(2024, 2, 21, 0, 0),\n",
       "                          datetime.datetime(2024, 2, 22, 0, 0),\n",
       "                          datetime.datetime(2024, 2, 23, 0, 0)], dtype=object),\n",
       "              'xaxis': 'x2',\n",
       "              'y': array([-0.17315274,  0.03609103,  0.25141448, ...,  4.09942818,  3.99126816,\n",
       "                           3.88365912]),\n",
       "              'yaxis': 'y2'},\n",
       "             {'line': {'color': '#2d92ff', 'width': 2},\n",
       "              'mode': 'lines',\n",
       "              'name': 'weekly seasonality',\n",
       "              'showlegend': False,\n",
       "              'type': 'scatter',\n",
       "              'uid': '801b9394-940b-4d30-bf38-69874931e08e',\n",
       "              'x': array([datetime.datetime(2023, 1, 2, 0, 0),\n",
       "                          datetime.datetime(2023, 1, 3, 0, 0),\n",
       "                          datetime.datetime(2023, 1, 4, 0, 0), ...,\n",
       "                          datetime.datetime(2024, 2, 21, 0, 0),\n",
       "                          datetime.datetime(2024, 2, 22, 0, 0),\n",
       "                          datetime.datetime(2024, 2, 23, 0, 0)], dtype=object),\n",
       "              'xaxis': 'x3',\n",
       "              'y': array([-13.69373417, -13.7846632 , -13.654109  , ..., -13.654109  ,\n",
       "                          -13.62946415, -13.67155838]),\n",
       "              'yaxis': 'y3'}],\n",
       "    'layout': {'autosize': True,\n",
       "               'font': {'size': 10},\n",
       "               'height': 630,\n",
       "               'hovermode': 'x unified',\n",
       "               'legend': {'traceorder': 'reversed', 'y': 0.1},\n",
       "               'margin': {'b': 0, 'l': 0, 'pad': 0, 'r': 10, 't': 10},\n",
       "               'template': '...',\n",
       "               'title': {'font': {'size': 12}},\n",
       "               'width': 700,\n",
       "               'xaxis': {'anchor': 'y',\n",
       "                         'domain': [0.0, 1.0],\n",
       "                         'linewidth': 1.5,\n",
       "                         'mirror': True,\n",
       "                         'range': [2022-12-12 00:00:00, 2024-03-15 00:00:00],\n",
       "                         'showline': True,\n",
       "                         'title': {'text': 'ds'},\n",
       "                         'type': 'date'},\n",
       "               'xaxis2': {'anchor': 'y2',\n",
       "                          'domain': [0.0, 1.0],\n",
       "                          'linewidth': 1.5,\n",
       "                          'mirror': True,\n",
       "                          'range': [2022-12-12 00:00:00, 2024-03-15 00:00:00],\n",
       "                          'showline': True,\n",
       "                          'title': {'text': 'ds'},\n",
       "                          'type': 'date'},\n",
       "               'xaxis3': {'anchor': 'y3',\n",
       "                          'domain': [0.0, 1.0],\n",
       "                          'linewidth': 1.5,\n",
       "                          'mirror': True,\n",
       "                          'range': [2022-12-12 00:00:00, 2024-03-15 00:00:00],\n",
       "                          'showline': True,\n",
       "                          'title': {'text': 'ds'},\n",
       "                          'type': 'date'},\n",
       "               'yaxis': {'anchor': 'x',\n",
       "                         'domain': [0.7333333333333333, 1.0],\n",
       "                         'linewidth': 1.5,\n",
       "                         'mirror': True,\n",
       "                         'rangemode': 'normal',\n",
       "                         'showline': True,\n",
       "                         'title': {'text': 'Trend'}},\n",
       "               'yaxis2': {'anchor': 'x2',\n",
       "                          'domain': [0.36666666666666664, 0.6333333333333333],\n",
       "                          'linewidth': 1.5,\n",
       "                          'mirror': True,\n",
       "                          'rangemode': 'tozero',\n",
       "                          'showline': True,\n",
       "                          'title': {'text': 'yearly seasonality'}},\n",
       "               'yaxis3': {'anchor': 'x3',\n",
       "                          'domain': [0.0, 0.26666666666666666],\n",
       "                          'linewidth': 1.5,\n",
       "                          'mirror': True,\n",
       "                          'rangemode': 'tozero',\n",
       "                          'showline': True,\n",
       "                          'title': {'text': 'weekly seasonality'}}}\n",
       "})"
      ]
     },
     "execution_count": 31,
     "metadata": {},
     "output_type": "execute_result"
    }
   ],
   "source": [
    "model.plot_components(forecast)"
   ]
  },
  {
   "cell_type": "code",
   "execution_count": null,
   "id": "7c79e479",
   "metadata": {},
   "outputs": [],
   "source": []
  }
 ],
 "metadata": {
  "kernelspec": {
   "display_name": "Python 3 (ipykernel)",
   "language": "python",
   "name": "python3"
  },
  "language_info": {
   "codemirror_mode": {
    "name": "ipython",
    "version": 3
   },
   "file_extension": ".py",
   "mimetype": "text/x-python",
   "name": "python",
   "nbconvert_exporter": "python",
   "pygments_lexer": "ipython3",
   "version": "3.9.5"
  }
 },
 "nbformat": 4,
 "nbformat_minor": 5
}
